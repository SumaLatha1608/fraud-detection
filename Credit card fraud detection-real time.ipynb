{
 "cells": [
  {
   "cell_type": "code",
   "execution_count": 2,
   "id": "c30e75ba",
   "metadata": {},
   "outputs": [
    {
     "name": "stdout",
     "output_type": "stream",
     "text": [
      "Requirement already satisfied: numpy in c:\\users\\sharm\\appdata\\local\\programs\\python\\python313\\lib\\site-packages (2.2.3)\n",
      "Requirement already satisfied: pandas in c:\\users\\sharm\\appdata\\local\\programs\\python\\python313\\lib\\site-packages (2.2.3)\n",
      "Requirement already satisfied: scikit-learn in c:\\users\\sharm\\appdata\\local\\programs\\python\\python313\\lib\\site-packages (1.6.1)\n",
      "Requirement already satisfied: imbalanced-learn in c:\\users\\sharm\\appdata\\local\\programs\\python\\python313\\lib\\site-packages (0.13.0)\n",
      "Requirement already satisfied: flask in c:\\users\\sharm\\appdata\\local\\programs\\python\\python313\\lib\\site-packages (3.1.0)\n",
      "Requirement already satisfied: joblib in c:\\users\\sharm\\appdata\\local\\programs\\python\\python313\\lib\\site-packages (1.4.2)\n",
      "Requirement already satisfied: python-dateutil>=2.8.2 in c:\\users\\sharm\\appdata\\local\\programs\\python\\python313\\lib\\site-packages (from pandas) (2.9.0.post0)\n",
      "Requirement already satisfied: pytz>=2020.1 in c:\\users\\sharm\\appdata\\local\\programs\\python\\python313\\lib\\site-packages (from pandas) (2025.1)\n",
      "Requirement already satisfied: tzdata>=2022.7 in c:\\users\\sharm\\appdata\\local\\programs\\python\\python313\\lib\\site-packages (from pandas) (2025.1)\n",
      "Requirement already satisfied: scipy>=1.6.0 in c:\\users\\sharm\\appdata\\local\\programs\\python\\python313\\lib\\site-packages (from scikit-learn) (1.15.2)\n",
      "Requirement already satisfied: threadpoolctl>=3.1.0 in c:\\users\\sharm\\appdata\\local\\programs\\python\\python313\\lib\\site-packages (from scikit-learn) (3.5.0)\n",
      "Requirement already satisfied: sklearn-compat<1,>=0.1 in c:\\users\\sharm\\appdata\\local\\programs\\python\\python313\\lib\\site-packages (from imbalanced-learn) (0.1.3)\n",
      "Requirement already satisfied: Werkzeug>=3.1 in c:\\users\\sharm\\appdata\\local\\programs\\python\\python313\\lib\\site-packages (from flask) (3.1.3)\n",
      "Requirement already satisfied: Jinja2>=3.1.2 in c:\\users\\sharm\\appdata\\local\\programs\\python\\python313\\lib\\site-packages (from flask) (3.1.5)\n",
      "Requirement already satisfied: itsdangerous>=2.2 in c:\\users\\sharm\\appdata\\local\\programs\\python\\python313\\lib\\site-packages (from flask) (2.2.0)\n",
      "Requirement already satisfied: click>=8.1.3 in c:\\users\\sharm\\appdata\\local\\programs\\python\\python313\\lib\\site-packages (from flask) (8.1.8)\n",
      "Requirement already satisfied: blinker>=1.9 in c:\\users\\sharm\\appdata\\local\\programs\\python\\python313\\lib\\site-packages (from flask) (1.9.0)\n",
      "Requirement already satisfied: colorama in c:\\users\\sharm\\appdata\\local\\programs\\python\\python313\\lib\\site-packages (from click>=8.1.3->flask) (0.4.6)\n",
      "Requirement already satisfied: MarkupSafe>=2.0 in c:\\users\\sharm\\appdata\\local\\programs\\python\\python313\\lib\\site-packages (from Jinja2>=3.1.2->flask) (3.0.2)\n",
      "Requirement already satisfied: six>=1.5 in c:\\users\\sharm\\appdata\\local\\programs\\python\\python313\\lib\\site-packages (from python-dateutil>=2.8.2->pandas) (1.17.0)\n"
     ]
    },
    {
     "name": "stderr",
     "output_type": "stream",
     "text": [
      "\n",
      "[notice] A new release of pip is available: 24.3.1 -> 25.0.1\n",
      "[notice] To update, run: python.exe -m pip install --upgrade pip\n"
     ]
    }
   ],
   "source": [
    "!pip install numpy pandas scikit-learn imbalanced-learn flask joblib\n"
   ]
  },
  {
   "cell_type": "code",
   "execution_count": 3,
   "id": "1c4643a5",
   "metadata": {},
   "outputs": [],
   "source": [
    "import pandas as pd\n",
    "from sklearn.model_selection import train_test_split\n",
    "from sklearn.preprocessing import StandardScaler\n",
    "\n",
    "# Load dataset\n",
    "df = pd.read_csv(\"creditcard.csv\")\n",
    "\n",
    "# Features (X) and target (y)\n",
    "X = df.drop(\"Class\", axis=1)  # All columns except \"Class\"\n",
    "y = df[\"Class\"]  # 1 = Fraud, 0 = Legit\n",
    "\n",
    "# Split data into training and testing sets (80% train, 20% test)\n",
    "X_train, X_test, y_train, y_test = train_test_split(X, y, test_size=0.2, random_state=42)\n",
    "\n",
    "# Standardize data (important for models like SVM)\n",
    "scaler = StandardScaler()\n",
    "X_train = scaler.fit_transform(X_train)\n",
    "X_test = scaler.transform(X_test)\n"
   ]
  },
  {
   "cell_type": "code",
   "execution_count": 4,
   "id": "ef561463",
   "metadata": {},
   "outputs": [
    {
     "name": "stdout",
     "output_type": "stream",
     "text": [
      "3.7.4 (tags/v3.7.4:e09359112e, Jul  8 2019, 20:34:20) [MSC v.1916 64 bit (AMD64)]\n"
     ]
    }
   ],
   "source": [
    "import sys\n",
    "print(sys.version)\n"
   ]
  },
  {
   "cell_type": "code",
   "execution_count": 5,
   "id": "9d3415c0",
   "metadata": {},
   "outputs": [
    {
     "name": "stdout",
     "output_type": "stream",
     "text": [
      "Requirement already satisfied: imbalanced-learn in c:\\users\\sharm\\appdata\\local\\programs\\python\\python313\\lib\\site-packages (0.13.0)\n",
      "Requirement already satisfied: numpy<3,>=1.24.3 in c:\\users\\sharm\\appdata\\local\\programs\\python\\python313\\lib\\site-packages (from imbalanced-learn) (2.2.3)\n",
      "Requirement already satisfied: scipy<2,>=1.10.1 in c:\\users\\sharm\\appdata\\local\\programs\\python\\python313\\lib\\site-packages (from imbalanced-learn) (1.15.2)\n",
      "Requirement already satisfied: scikit-learn<2,>=1.3.2 in c:\\users\\sharm\\appdata\\local\\programs\\python\\python313\\lib\\site-packages (from imbalanced-learn) (1.6.1)\n",
      "Requirement already satisfied: sklearn-compat<1,>=0.1 in c:\\users\\sharm\\appdata\\local\\programs\\python\\python313\\lib\\site-packages (from imbalanced-learn) (0.1.3)\n",
      "Requirement already satisfied: joblib<2,>=1.1.1 in c:\\users\\sharm\\appdata\\local\\programs\\python\\python313\\lib\\site-packages (from imbalanced-learn) (1.4.2)\n",
      "Requirement already satisfied: threadpoolctl<4,>=2.0.0 in c:\\users\\sharm\\appdata\\local\\programs\\python\\python313\\lib\\site-packages (from imbalanced-learn) (3.5.0)\n"
     ]
    },
    {
     "name": "stderr",
     "output_type": "stream",
     "text": [
      "\n",
      "[notice] A new release of pip is available: 24.3.1 -> 25.0.1\n",
      "[notice] To update, run: python.exe -m pip install --upgrade pip\n"
     ]
    }
   ],
   "source": [
    "!pip install --upgrade imbalanced-learn\n"
   ]
  },
  {
   "cell_type": "code",
   "execution_count": 7,
   "id": "dbca3aae",
   "metadata": {},
   "outputs": [
    {
     "name": "stdout",
     "output_type": "stream",
     "text": [
      "Before SMOTE: 0    227451\n",
      "1       394\n",
      "Name: Class, dtype: int64\n",
      "After SMOTE: 0    227451\n",
      "1     45490\n",
      "Name: Class, dtype: int64\n"
     ]
    }
   ],
   "source": [
    "from imblearn.over_sampling import SMOTE\n",
    "\n",
    "smote = SMOTE(sampling_strategy=0.2, random_state=42)  # Make fraud 20% of data\n",
    "X_train_balanced, y_train_balanced = smote.fit_resample(X_train, y_train)\n",
    "\n",
    "print(f\"Before SMOTE: {y_train.value_counts()}\")\n",
    "print(f\"After SMOTE: {y_train_balanced.value_counts()}\")"
   ]
  },
  {
   "cell_type": "code",
   "execution_count": 8,
   "id": "ff12d180",
   "metadata": {},
   "outputs": [
    {
     "name": "stdout",
     "output_type": "stream",
     "text": [
      "Training Logistic Regression...\n",
      "Training K-Nearest Neighbors...\n",
      "Training Support Vector Machine...\n",
      "Training Decision Tree...\n",
      "Training Random Forest...\n",
      "\n",
      "🔹 Model Performance:\n",
      "Logistic Regression: 0.9939\n",
      "K-Nearest Neighbors: 0.9983\n",
      "Support Vector Machine: 0.9981\n",
      "Decision Tree: 0.9976\n",
      "Random Forest: 0.9996\n"
     ]
    }
   ],
   "source": [
    "from sklearn.linear_model import LogisticRegression\n",
    "from sklearn.neighbors import KNeighborsClassifier\n",
    "from sklearn.svm import SVC\n",
    "from sklearn.tree import DecisionTreeClassifier\n",
    "from sklearn.ensemble import RandomForestClassifier\n",
    "from sklearn.metrics import accuracy_score\n",
    "\n",
    "# Initialize models\n",
    "models = {\n",
    "    \"Logistic Regression\": LogisticRegression(),\n",
    "    \"K-Nearest Neighbors\": KNeighborsClassifier(n_neighbors=5),\n",
    "    \"Support Vector Machine\": SVC(),\n",
    "    \"Decision Tree\": DecisionTreeClassifier(),\n",
    "    \"Random Forest\": RandomForestClassifier(n_estimators=50, n_jobs=-1)\n",
    "}\n",
    "\n",
    "# Store accuracy results\n",
    "results = {}\n",
    "\n",
    "# Train and test models\n",
    "for name, model in models.items():\n",
    "    print(f\"Training {name}...\")\n",
    "    model.fit(X_train_balanced, y_train_balanced)  # Train model\n",
    "    y_pred = model.predict(X_test)  # Predict on test data\n",
    "    accuracy = accuracy_score(y_test, y_pred)  # Check accuracy\n",
    "    results[name] = accuracy  # Store result\n",
    "\n",
    "# Print model performance\n",
    "print(\"\\n🔹 Model Performance:\")\n",
    "for model, acc in results.items():\n",
    "    print(f\"{model}: {acc:.4f}\")\n"
   ]
  },
  {
   "cell_type": "code",
   "execution_count": 9,
   "id": "c472ea16",
   "metadata": {},
   "outputs": [
    {
     "name": "stdout",
     "output_type": "stream",
     "text": [
      "Training Voting Classifier...\n"
     ]
    },
    {
     "name": "stderr",
     "output_type": "stream",
     "text": [
      "c:\\users\\sharm\\appdata\\local\\programs\\python\\python37\\lib\\site-packages\\sklearn\\svm\\_base.py:1208: ConvergenceWarning: Liblinear failed to converge, increase the number of iterations.\n",
      "  ConvergenceWarning,\n"
     ]
    },
    {
     "name": "stdout",
     "output_type": "stream",
     "text": [
      "\n",
      "✅ Final Optimized Ensemble Model Accuracy: 0.9992\n"
     ]
    }
   ],
   "source": [
    "from sklearn.ensemble import VotingClassifier\n",
    "from sklearn.svm import LinearSVC\n",
    "from sklearn.linear_model import LogisticRegression\n",
    "from sklearn.tree import DecisionTreeClassifier\n",
    "from sklearn.ensemble import RandomForestClassifier\n",
    "\n",
    "# Reduce dataset size for testing (optional)\n",
    "X_train_small, _, y_train_small, _ = train_test_split(X_train_balanced, y_train_balanced, test_size=0.7, random_state=42)\n",
    "\n",
    "# Faster Voting Classifier\n",
    "ensemble_model = VotingClassifier(\n",
    "    estimators=[\n",
    "        ('LogReg', LogisticRegression()),\n",
    "        ('LinearSVC', LinearSVC()),  # Replaces slow SVC\n",
    "        ('DecisionTree', DecisionTreeClassifier()),\n",
    "        ('RandomForest', RandomForestClassifier(n_estimators=20, n_jobs=-1))  # Reduced estimators\n",
    "    ],\n",
    "    voting='hard'  # Hard voting is faster\n",
    ")\n",
    "\n",
    "# Train on reduced dataset\n",
    "print(\"Training Voting Classifier...\")\n",
    "ensemble_model.fit(X_train_small, y_train_small)\n",
    "\n",
    "# Predict and check accuracy\n",
    "y_pred_ensemble = ensemble_model.predict(X_test)\n",
    "ensemble_accuracy = accuracy_score(y_test, y_pred_ensemble)\n",
    "print(f\"\\n✅ Final Optimized Ensemble Model Accuracy: {ensemble_accuracy:.4f}\")\n"
   ]
  },
  {
   "cell_type": "code",
   "execution_count": 12,
   "id": "462b4f04",
   "metadata": {},
   "outputs": [
    {
     "name": "stdout",
     "output_type": "stream",
     "text": [
      "✅ Model and scaler saved successfully!\n"
     ]
    }
   ],
   "source": [
    "import joblib\n",
    "\n",
    "# Save the trained model\n",
    "joblib.dump(ensemble_model, \"fraud_detection_model.pkl\")\n",
    "\n",
    "# Save the scaler (since data needs to be standardized before prediction)\n",
    "joblib.dump(scaler, \"scaler.pkl\")\n",
    "\n",
    "print(\"✅ Model and scaler saved successfully!\")\n"
   ]
  },
  {
   "cell_type": "code",
   "execution_count": 13,
   "id": "ad873bad",
   "metadata": {},
   "outputs": [
    {
     "name": "stdout",
     "output_type": "stream",
     "text": [
      "✅ Model and scaler loaded successfully!\n"
     ]
    }
   ],
   "source": [
    "# Load the trained model and scaler\n",
    "\n",
    "loaded_model = joblib.load(\"fraud_detection_model.pkl\")\n",
    "loaded_scaler = joblib.load(\"scaler.pkl\")\n",
    "\n",
    "print(\"✅ Model and scaler loaded successfully!\")"
   ]
  },
  {
   "cell_type": "code",
   "execution_count": 15,
   "id": "c8a784a1",
   "metadata": {},
   "outputs": [
    {
     "name": "stdout",
     "output_type": "stream",
     "text": [
      "✅ Legitimate Transaction\n"
     ]
    }
   ],
   "source": [
    "import joblib\n",
    "import pandas as pd\n",
    "\n",
    "# Load the trained model and scaler\n",
    "loaded_model = joblib.load(\"fraud_detection_model.pkl\")\n",
    "loaded_scaler = joblib.load(\"scaler.pkl\")\n",
    "\n",
    "# Step 3: Function to Detect Fraud\n",
    "def detect_fraud(transaction):\n",
    "    # Convert dictionary to DataFrame with correct column order\n",
    "    df = pd.DataFrame([transaction])  # Create DataFrame with one row\n",
    "\n",
    "    # Standardize input data using the loaded scaler\n",
    "    df_scaled = loaded_scaler.transform(df)\n",
    "\n",
    "    # Predict fraud (1 = Fraud, 0 = Legit)\n",
    "    prediction = loaded_model.predict(df_scaled)[0]\n",
    "    \n",
    "    return \"⚠️ Fraudulent Transaction Detected!\" if prediction == 1 else \"✅ Legitimate Transaction\"\n",
    "\n",
    "# Step 4: Provide an example transaction with ALL features\n",
    "example_transaction = {\n",
    "    \"Time\": 0.0, \"V1\": -1.3, \"V2\": 0.5, \"V3\": 2.5, \"V4\": 0.0, \"V5\": 0.0, \n",
    "    \"V6\": 0.0, \"V7\": 0.0, \"V8\": 0.0, \"V9\": 0.0, \"V10\": 0.0, \"V11\": 0.0, \n",
    "    \"V12\": 0.0, \"V13\": 0.0, \"V14\": 0.0, \"V15\": 0.0, \"V16\": 0.0, \"V17\": 0.0, \n",
    "    \"V18\": 0.0, \"V19\": 0.0, \"V20\": 0.0, \"V21\": 0.0, \"V22\": 0.0, \"V23\": 0.0, \n",
    "    \"V24\": 0.0, \"V25\": 0.0, \"V26\": 0.0, \"V27\": 0.0, \"V28\": 0.0, \"Amount\": 50\n",
    "}\n",
    "\n",
    "# Step 5: Test the fraud detection function\n",
    "print(detect_fraud(example_transaction))\n"
   ]
  },
  {
   "cell_type": "code",
   "execution_count": 17,
   "id": "b7498c55",
   "metadata": {},
   "outputs": [
    {
     "name": "stdout",
     "output_type": "stream",
     "text": [
      "🔄 Processing Transaction: Amount = $50\n",
      "✅ Legitimate Transaction\n",
      "--------------------------------------------------\n",
      "🔄 Processing Transaction: Amount = $5000\n",
      "✅ Legitimate Transaction\n",
      "--------------------------------------------------\n",
      "🔄 Processing Transaction: Amount = $1000\n",
      "✅ Legitimate Transaction\n",
      "--------------------------------------------------\n"
     ]
    }
   ],
   "source": [
    "import time\n",
    "\n",
    "\n",
    "transactions = [\n",
    "    {\"Time\": 50000, \"V1\": -1.3, \"V2\": 0.5, \"V3\": 2.5, \"V4\": 0.1, \"V5\": -0.5, \n",
    "     \"V6\": 0.3, \"V7\": -1.2, \"V8\": 1.4, \"V9\": 0.7, \"V10\": -0.1, \"V11\": 0.5, \n",
    "     \"V12\": -0.4, \"V13\": 0.3, \"V14\": -0.2, \"V15\": 0.2, \"V16\": -1.1, \"V17\": 0.8, \n",
    "     \"V18\": -0.3, \"V19\": 1.2, \"V20\": 0.6, \"V21\": -0.7, \"V22\": 0.9, \"V23\": -0.8, \n",
    "     \"V24\": 0.1, \"V25\": -0.6, \"V26\": 1.5, \"V27\": -1.4, \"V28\": 0.5, \"Amount\": 50},  # Normal Transaction\n",
    "\n",
    "    {\"Time\": 60000, \"V1\": 2.0, \"V2\": -1.5, \"V3\": -3.5, \"V4\": -0.2, \"V5\": 1.0, \n",
    "     \"V6\": -0.8, \"V7\": 2.5, \"V8\": -1.7, \"V9\": 3.2, \"V10\": -2.0, \"V11\": 1.5, \n",
    "     \"V12\": -3.1, \"V13\": 0.7, \"V14\": -0.6, \"V15\": 1.8, \"V16\": -1.9, \"V17\": 2.1, \n",
    "     \"V18\": -0.5, \"V19\": 3.0, \"V20\": -1.2, \"V21\": 1.7, \"V22\": -2.4, \"V23\": 1.2, \n",
    "     \"V24\": -3.8, \"V25\": 2.9, \"V26\": -1.6, \"V27\": 3.5, \"V28\": -2.1, \"Amount\": 5000},  \n",
    "\n",
    "    {\"Time\": 70000, \"V1\": -2.0, \"V2\": 1.2, \"V3\": 4.5, \"V4\": 0.8, \"V5\": -1.2, \n",
    "     \"V6\": 1.0, \"V7\": -0.9, \"V8\": 2.3, \"V9\": -1.7, \"V10\": 0.6, \"V11\": -0.4, \n",
    "     \"V12\": 1.1, \"V13\": -0.9, \"V14\": 0.5, \"V15\": -0.3, \"V16\": 1.7, \"V17\": -2.0, \n",
    "     \"V18\": 0.2, \"V19\": -1.4, \"V20\": 0.9, \"V21\": -0.5, \"V22\": 1.8, \"V23\": -0.7, \n",
    "     \"V24\": 0.3, \"V25\": -1.1, \"V26\": 2.4, \"V27\": -1.3, \"V28\": 0.8, \"Amount\": 1000}  # Normal Transaction\n",
    "]\n",
    "\n",
    "# Loop through transactions in real-time\n",
    "for transaction in transactions:\n",
    "    result = detect_fraud(transaction)\n",
    "    print(f\"🔄 Processing Transaction: Amount = ${transaction['Amount']}\")\n",
    "    print(result)\n",
    "    print(\"-\" * 50)\n",
    "    time.sleep(2)  # Simulate delay between transactions\n"
   ]
  }
 ],
 "metadata": {
  "kernelspec": {
   "display_name": "Python 3 (ipykernel)",
   "language": "python",
   "name": "python3"
  },
  "language_info": {
   "codemirror_mode": {
    "name": "ipython",
    "version": 3
   },
   "file_extension": ".py",
   "mimetype": "text/x-python",
   "name": "python",
   "nbconvert_exporter": "python",
   "pygments_lexer": "ipython3",
   "version": "3.7.4"
  }
 },
 "nbformat": 4,
 "nbformat_minor": 5
}
